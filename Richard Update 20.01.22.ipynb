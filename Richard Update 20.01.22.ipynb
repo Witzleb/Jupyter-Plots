{
 "cells": [
  {
   "cell_type": "markdown",
   "id": "7219cf90",
   "metadata": {},
   "source": [
    "Hallo Richard, \n",
    "\n",
    "zu den Reservoir Gleichungen. Ich gehe jetzt davon aus, dass du Gleichungen in der Art von \n",
    "$x(n)=f(W_{in}*u(n) + W*x(n-1))$ und $y(n)=f_{out}*(W_{out}*x(n))$ meinst? Mit x(n) als state vector des Reservoirneurons zu timestep n, u(n) als Input und y(n) als Output?\n",
    "Falls dem so ist, habe ich das meiner Meinung nach schon in der Presentation behandelt, und zwar unter folgendem Absatz. Bzw. habe ich das Ganze noch ein bisschen gekürzt und Summen eingefügt."
   ]
  },
  {
   "cell_type": "markdown",
   "id": "cb15bca6",
   "metadata": {},
   "source": [
    "The QIF Neuron is governed by the equation:\n",
    "\n",
    "$ \\tau \\frac{d}{dt} v_{i}=v_{i}^2 + I_{i} $\n",
    "\n",
    "where $I_{i}$ is the input current and $v_{i}$ is the membrane potential of neuron $i$. \n",
    "\n",
    "The form for the input current is\n",
    "\n",
    "$ I_{i} = \\eta_{i} + Js\\tau + I(t)_{i} $\n",
    "\n",
    "with a heterogeneous background current $\\eta$, as well as a common time-varying component $I(t)$ which is created through external input coming to the network. The synaptic weight $J$ times the mean synaptic activation $s$ symbolizes the recurrent input, that is arriving from other network units.\n",
    "\n",
    "In our system, the external Input is connected to the reservoir neurons through an input matrix $W_{in}$.  \n",
    "\n",
    "$I(t)_{i} = W_{in} * I_{ext}(t)$ \n",
    "\n",
    "while the mean synaptic activation is realized with a reservoir-internal coupling matrix $C$ and a spikerate $r_{j}$ of every reservoir neuron.\n",
    "\n",
    "$s_{i} = \\sum^{N}_{j=1} r_{j}*C$\n",
    "\n",
    "$C$ connects every network unit with each other and has a spectral radius lower than one, thus our network is sparsely coupled. \n",
    "\n",
    "$Js\\tau = J*\\sum^{N}_{j=1} r_{j}*C*\\tau$\n",
    "\n",
    "Which concludes to the following network equation\n",
    "\n",
    "$ \\tau \\frac{d}{dt} v_{i}=v_{i}^2 + \\eta_{i} + J*\\sum^{N}_{j=1} r_{j}*C*\\tau + W_{in} * I_{ext}(t) $.\n"
   ]
  },
  {
   "cell_type": "markdown",
   "id": "e5e35d37",
   "metadata": {},
   "source": [
    "Falls du etwas anderes meinst, stehe ich auf dem Schlauch.\n",
    "Liebe Grüße\n",
    "Willi "
   ]
  },
  {
   "cell_type": "code",
   "execution_count": null,
   "id": "74ba8517",
   "metadata": {},
   "outputs": [],
   "source": []
  }
 ],
 "metadata": {
  "kernelspec": {
   "display_name": "Python 3",
   "language": "python",
   "name": "python3"
  },
  "language_info": {
   "codemirror_mode": {
    "name": "ipython",
    "version": 3
   },
   "file_extension": ".py",
   "mimetype": "text/x-python",
   "name": "python",
   "nbconvert_exporter": "python",
   "pygments_lexer": "ipython3",
   "version": "3.8.8"
  }
 },
 "nbformat": 4,
 "nbformat_minor": 5
}
